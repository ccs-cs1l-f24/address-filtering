{
 "cells": [
  {
   "cell_type": "markdown",
   "metadata": {},
   "source": [
    "# Address Filtering Demo 2\n",
    "Given some sample dataset, I will construct the matrices with basic input/output information. I will filter these based on a training set of identified addresses and do a similar construction with address affiliation unknown. Then, I can use a variety of combinations of distance functions to measure how related addresses are."
   ]
  },
  {
   "cell_type": "code",
   "execution_count": 11,
   "metadata": {},
   "outputs": [],
   "source": [
    "import pandas as pd\n",
    "import numpy as np\n",
    "from analysis import *\n",
    "from extract_sender_receiver import *"
   ]
  },
  {
   "cell_type": "markdown",
   "metadata": {},
   "source": [
    "### Datasets\n",
    "Pulled from online, but can be generated using `ethereum-etl`. List of interesting addresses was also pulled from a project since they are just of set of addresses that researchers wanted to omit for analysis (just an example of what I could work with)."
   ]
  },
  {
   "cell_type": "markdown",
   "metadata": {},
   "source": [
    "### Constructing Matrices\n",
    "I will extract: block_number,out_tx,in_tx,out_value,in_value,unique_receivers,unique_senders for each address in the transaction dataset."
   ]
  },
  {
   "cell_type": "code",
   "execution_count": 3,
   "metadata": {},
   "outputs": [
    {
     "name": "stdout",
     "output_type": "stream",
     "text": [
      "Number of interesting senders: 800\n",
      "Number of interesting receivers: 136\n",
      "Number of blocks: 635\n"
     ]
    }
   ],
   "source": [
    "path = 'Data/eth_transactions.csv'\n",
    "interesting_addresses = 'Data/layerzero_sybils.csv'\n",
    "output_folder = 'Matrices2'\n",
    "construct_matrix(path, interesting_addresses, output_folder)"
   ]
  },
  {
   "cell_type": "markdown",
   "metadata": {},
   "source": [
    "### Defining Class\n",
    "In order to make comparisons between an address and a class, I do not want to compare it to every single matrix, so we are going to define a single matrix representative of that class."
   ]
  },
  {
   "cell_type": "code",
   "execution_count": 25,
   "metadata": {},
   "outputs": [
    {
     "name": "stdout",
     "output_type": "stream",
     "text": [
      "Spectra for the class have been constructed and saved to UserSpectra.csv\n"
     ]
    }
   ],
   "source": [
    "matrix_folder_path = 'Matrices2'\n",
    "dim_red = diffusion_map\n",
    "func = np.mean\n",
    "output_file = 'UserSpectra.csv'\n",
    "\n",
    "centroids = define_spectra(matrix_folder_path, dim_red, func)\n",
    "np.savetxt(output_file, centroids, delimiter=\",\")\n",
    "\n",
    "print('Spectra for the class have been constructed and saved to', output_file)"
   ]
  },
  {
   "cell_type": "markdown",
   "metadata": {},
   "source": [
    "### Eros Distance\n",
    "Compute weights for the class based on component extraction technique and similarity metric."
   ]
  },
  {
   "cell_type": "code",
   "execution_count": 26,
   "metadata": {},
   "outputs": [
    {
     "name": "stdout",
     "output_type": "stream",
     "text": [
      "Weights have been calculated and saved to weights_diffusion_map.csv\n",
      "[2.0000e-01 2.0000e-01 2.0000e-01 2.0000e-01 2.0000e-01 3.0203e-17 1.1725e-17]\n"
     ]
    }
   ],
   "source": [
    "matrix_folder_path = 'Matrices2'\n",
    "\n",
    "output_file = 'weights_diffusion_map.csv'\n",
    "\n",
    "matrices = []\n",
    "\n",
    "for file in os.listdir(matrix_folder_path):\n",
    "    with open(os.path.join(matrix_folder_path, file)) as f:\n",
    "        A = np.genfromtxt(f, delimiter=',', dtype=np.float64, skip_header=1)\n",
    "        A = np.array([[int(x.decode()) if isinstance(x, bytes) else x for x in row] for row in A]).T \n",
    "        matrices.append(A)\n",
    "\n",
    "eig_mat, eig_vec_mat = build_eig_mat(matrices, dim_red)\n",
    "weights = compute_weight_raw(eig_mat)\n",
    "np.savetxt(output_file, weights, delimiter=\",\")\n",
    "\n",
    "print('Weights have been calculated and saved to', output_file)\n",
    "print(weights)"
   ]
  },
  {
   "cell_type": "code",
   "execution_count": 28,
   "metadata": {},
   "outputs": [
    {
     "name": "stdout",
     "output_type": "stream",
     "text": [
      "Cosine Similarity\n",
      "0.04117051889075911\n",
      "0.06675015209637022\n",
      "0.025933414590600386\n",
      "Euclidean Distance\n",
      "0.22721842406620538\n",
      "0.1680156087309959\n",
      "0.1955513908572939\n",
      "Mean Squared Error\n",
      "0.05223673519620126\n",
      "0.032220804804103644\n",
      "0.03861846805644338\n"
     ]
    }
   ],
   "source": [
    "# with diffusion map\n",
    "compare_0 = np.genfromtxt('Matrices/0x0b2443fdca5faa860738000ece90122a0702c5bb.csv', delimiter=',', dtype=np.float64, skip_header=1)\n",
    "compare_0 = np.array([[int(x.decode()) if isinstance(x, bytes) else x for x in row] for row in compare_0]).T \n",
    "\n",
    "compare_1 = np.genfromtxt('CompareMatrices/0x0a3cc7cb8c66e5a033352154afa918156b8fc2d2.csv', delimiter=',', dtype=np.float64, skip_header=1)\n",
    "compare_1 = np.array([[int(x.decode()) if isinstance(x, bytes) else x for x in row] for row in compare_1]).T \n",
    "\n",
    "compare_2 = np.genfromtxt('transaction_data.csv', delimiter=',', dtype=np.float64, skip_header=1)\n",
    "compare_2 = np.array([[int(x.decode()) if isinstance(x, bytes) else x for x in row] for row in compare_2]).T \n",
    "\n",
    "dist_0 = Eros(centroids, compare_0, weights, cosine_similarity, dim_red)\n",
    "dist_1 = Eros(centroids, compare_1, weights, cosine_similarity, dim_red)\n",
    "dist_2 = Eros(centroids, compare_2, weights, cosine_similarity, dim_red)\n",
    "\n",
    "dist_0_euc = Eros(centroids, compare_0, weights, euclidean_distance, dim_red)\n",
    "dist_1_euc = Eros(centroids, compare_1, weights, euclidean_distance, dim_red)\n",
    "dist_2_euc = Eros(centroids, compare_2, weights, euclidean_distance, dim_red)\n",
    "\n",
    "dist_0_mse = Eros(centroids, compare_0, weights, mean_squared_error, dim_red)\n",
    "dist_1_mse = Eros(centroids, compare_1, weights, mean_squared_error, dim_red)\n",
    "dist_2_mse = Eros(centroids, compare_2, weights, mean_squared_error, dim_red)\n",
    "\n",
    "print('Cosine Similarity')\n",
    "print(dist_0)\n",
    "print(dist_1)\n",
    "print(dist_2)\n",
    "print('Euclidean Distance')\n",
    "print(dist_0_euc)\n",
    "print(dist_1_euc)\n",
    "print(dist_2_euc)\n",
    "print('Mean Squared Error')\n",
    "print(dist_0_mse)\n",
    "print(dist_1_mse)\n",
    "print(dist_2_mse)"
   ]
  },
  {
   "cell_type": "code",
   "execution_count": 24,
   "metadata": {},
   "outputs": [
    {
     "name": "stdout",
     "output_type": "stream",
     "text": [
      "Cosine Similarity\n",
      "0.06007258842537396\n",
      "0.054566869224389296\n",
      "0.011856841357632387\n",
      "Euclidean Distance\n",
      "0.16084287394486116\n",
      "0.22823370824842418\n",
      "0.19993197410007288\n",
      "Mean Squared Error\n",
      "0.026431250252048864\n",
      "0.05283468547750698\n",
      "0.04011301156009313\n"
     ]
    }
   ],
   "source": [
    "# with pca\n",
    "compare_0 = np.genfromtxt('Matrices/0x0b2443fdca5faa860738000ece90122a0702c5bb.csv', delimiter=',', dtype=np.float64, skip_header=1)\n",
    "compare_0 = np.array([[int(x.decode()) if isinstance(x, bytes) else x for x in row] for row in compare_0]).T \n",
    "\n",
    "compare_1 = np.genfromtxt('CompareMatrices/0x0a3cc7cb8c66e5a033352154afa918156b8fc2d2.csv', delimiter=',', dtype=np.float64, skip_header=1)\n",
    "compare_1 = np.array([[int(x.decode()) if isinstance(x, bytes) else x for x in row] for row in compare_1]).T \n",
    "\n",
    "compare_2 = np.genfromtxt('transaction_data.csv', delimiter=',', dtype=np.float64, skip_header=1)\n",
    "compare_2 = np.array([[int(x.decode()) if isinstance(x, bytes) else x for x in row] for row in compare_2]).T \n",
    "\n",
    "dist_0 = Eros(centroids, compare_0, weights, cosine_similarity, dim_red)\n",
    "dist_1 = Eros(centroids, compare_1, weights, cosine_similarity, dim_red)\n",
    "dist_2 = Eros(centroids, compare_2, weights, cosine_similarity, dim_red)\n",
    "\n",
    "dist_0_euc = Eros(centroids, compare_0, weights, euclidean_distance, dim_red)\n",
    "dist_1_euc = Eros(centroids, compare_1, weights, euclidean_distance, dim_red)\n",
    "dist_2_euc = Eros(centroids, compare_2, weights, euclidean_distance, dim_red)\n",
    "\n",
    "dist_0_mse = Eros(centroids, compare_0, weights, mean_squared_error, dim_red)\n",
    "dist_1_mse = Eros(centroids, compare_1, weights, mean_squared_error, dim_red)\n",
    "dist_2_mse = Eros(centroids, compare_2, weights, mean_squared_error, dim_red)\n",
    "\n",
    "print('Cosine Similarity')\n",
    "print(dist_0)\n",
    "print(dist_1)\n",
    "print(dist_2)\n",
    "print('Euclidean Distance')\n",
    "print(dist_0_euc)\n",
    "print(dist_1_euc)\n",
    "print(dist_2_euc)\n",
    "print('Mean Squared Error')\n",
    "print(dist_0_mse)\n",
    "print(dist_1_mse)\n",
    "print(dist_2_mse)"
   ]
  },
  {
   "cell_type": "markdown",
   "metadata": {},
   "source": [
    "### Improvements\n",
    "- Finish up tools for running the analysis (CLI, visualization functions, etc)\n",
    "- Clustering coefficient\n",
    "- Potentially try running it on a larger dataset"
   ]
  }
 ],
 "metadata": {
  "kernelspec": {
   "display_name": "Python 3",
   "language": "python",
   "name": "python3"
  },
  "language_info": {
   "codemirror_mode": {
    "name": "ipython",
    "version": 3
   },
   "file_extension": ".py",
   "mimetype": "text/x-python",
   "name": "python",
   "nbconvert_exporter": "python",
   "pygments_lexer": "ipython3",
   "version": "3.11.8"
  }
 },
 "nbformat": 4,
 "nbformat_minor": 2
}
